{
 "cells": [
  {
   "cell_type": "markdown",
   "metadata": {},
   "source": [
    "* Extract 3 columns from all transactions: Patient_ID, Drug_ID, Dispense_Week\n",
    "* All Drug_IDs in drug_with_illness_lookup_CN.csv have corresponding ATC codes\n",
    "* Remove transactions of drugs unseen in drug_with_illness_lookup_CN.csv\n",
    "\n",
    "Input:\n",
    "* Merged/patient_1.txt ~ patient_50.txt\n",
    "* drug_with_illness_lookup_CN.csv\n",
    "\n",
    "Output:\n",
    "* train_16.pkl, train_16_ground_truth.pkl\n",
    "* test_16.pkl\n",
    "* train_15.pkl, train_15_ground_truth.pkl\n",
    "* test_15.pkl, test_15_ground_truth.pkl"
   ]
  },
  {
   "cell_type": "code",
   "execution_count": 1,
   "metadata": {
    "collapsed": true
   },
   "outputs": [],
   "source": [
    "import numpy as np\n",
    "import pandas as pd\n",
    "\n",
    "import pickle\n",
    "\n",
    "def load_data(filename):\n",
    "    with open(filename, 'rb') as fin:\n",
    "        return pickle.load(fin)\n",
    "    \n",
    "def save_data(obj, filename):\n",
    "    with open(filename, 'wb+') as fout:\n",
    "        pickle.dump(obj, fout)\n",
    "        \n",
    "import os\n",
    "root_path = 'C:/Users/yuanl4/Documents/MelbDatathon2017/'\n",
    "\n",
    "def check_directory(directory):\n",
    "    assert os.path.isdir(directory), \"Directory doesn't exist: %s\" % directory\n",
    "\n",
    "check_directory(root_path + 'Merged')"
   ]
  },
  {
   "cell_type": "code",
   "execution_count": 2,
   "metadata": {
    "collapsed": true
   },
   "outputs": [],
   "source": [
    "def read_patients(i):\n",
    "    df = pd.read_csv(root_path + 'Merged/patient_%d.txt' % i, sep='\\t', \n",
    "                     parse_dates = ['Dispense_Week'],\n",
    "                     usecols=['Patient_ID', 'Drug_ID', 'Dispense_Week'])\n",
    "    df.columns = ['PID', 'DID', 'DispWeek']\n",
    "    assert set(np.ediff1d(df.PID.values)) == {0, 1} # assume patient IDs are sorted and continuous\n",
    "    return df\n",
    "\n",
    "def convert_to_matrix(df):\n",
    "    assert np.in1d(df.dtypes.values, [np.dtype('int64'), np.dtype('<M8[ns]')]).all() # data dtype is int64 or date\n",
    "\n",
    "    matrix = np.zeros(df.shape, dtype=np.int32)\n",
    "\n",
    "    year2000 = np.datetime64('2000-01-01')\n",
    "    for i, (col_dtype, col_name) in enumerate(zip(df.dtypes.values, df.columns)):\n",
    "        if col_dtype == np.dtype('int64'):\n",
    "            matrix[:, i] = df[col_name].values\n",
    "        else:\n",
    "            matrix[:, i] = (df[col_name].values - year2000).astype('timedelta64[D]')\n",
    "    return matrix, df.index.values\n",
    "\n",
    "def read_data(file_range):\n",
    "    transactions = []\n",
    "    for i in file_range:\n",
    "        print(i, end=' ')\n",
    "        transactions.append(convert_to_matrix(read_patients(i))[0])\n",
    "    print('finish loading')\n",
    "\n",
    "    transactions = np.vstack(transactions)\n",
    "    assert set(np.diff(transactions[:, 0])) == {0, 1} # assume patient IDs are sorted and continuous\n",
    "\n",
    "    transactions[:, 0] -= transactions[:, 0].min() # now patient ID starts at 0\n",
    "    return transactions"
   ]
  },
  {
   "cell_type": "code",
   "execution_count": 3,
   "metadata": {
    "collapsed": true
   },
   "outputs": [],
   "source": [
    "drug_lookup = pd.read_csv('drug_with_illness_lookup_CN.csv', index_col='DID', encoding='utf-16', sep='\\t')\n",
    "all_drugs = drug_lookup.index.values\n",
    "diabetes_drugs = all_drugs[drug_lookup.ChronicIllness=='Diabetes']"
   ]
  },
  {
   "cell_type": "code",
   "execution_count": 4,
   "metadata": {},
   "outputs": [
    {
     "name": "stdout",
     "output_type": "stream",
     "text": [
      "1 2 3 4 5 6 7 8 9 10 11 12 13 14 15 16 17 18 19 20 21 22 23 24 25 finish loading\n",
      "patients in the training set: 279200\n",
      "Wall time: 1min 29s\n"
     ]
    }
   ],
   "source": [
    "%%time\n",
    "transactions = read_data(range(1, 26)) # 1~25\n",
    "\n",
    "num_patients = transactions[-1, 0] + 1\n",
    "print('patients in the training set:', num_patients)"
   ]
  },
  {
   "cell_type": "code",
   "execution_count": 5,
   "metadata": {},
   "outputs": [
    {
     "name": "stdout",
     "output_type": "stream",
     "text": [
      "(34332818, 3) -> (34204142, 3)\n"
     ]
    }
   ],
   "source": [
    "print(transactions.shape, end=' -> ')\n",
    "transactions = transactions[np.in1d(transactions[:, 1], all_drugs)]\n",
    "print(transactions.shape)"
   ]
  },
  {
   "cell_type": "code",
   "execution_count": 6,
   "metadata": {},
   "outputs": [
    {
     "name": "stdout",
     "output_type": "stream",
     "text": [
      "(21731890, 3)\n",
      "(5890452, 3)\n",
      "(27622342, 3)\n",
      "(6581800, 3)\n"
     ]
    }
   ],
   "source": [
    "year2016 = (np.datetime64('2016-01-01') - np.datetime64('2000-01-01')).astype('timedelta64[D]').astype(int)\n",
    "year2015 = (np.datetime64('2015-01-01') - np.datetime64('2000-01-01')).astype('timedelta64[D]').astype(int)\n",
    "\n",
    "# columns: ['PID', 'DID', 'DispWeek']\n",
    "pre2016_mask = transactions[:, 2] < year2016\n",
    "transactions_pre2016  = transactions[pre2016_mask]\n",
    "transactions_2016     = transactions[~pre2016_mask]\n",
    "\n",
    "pre2015_mask = transactions_pre2016[:, 2] < year2015\n",
    "transactions_pre2015  = transactions_pre2016[pre2015_mask]\n",
    "transactions_2015     = transactions_pre2016[~pre2015_mask]\n",
    "\n",
    "print(transactions_pre2015.shape)\n",
    "print(transactions_2015.shape)\n",
    "print(transactions_pre2016.shape)\n",
    "print(transactions_2016.shape)"
   ]
  },
  {
   "cell_type": "code",
   "execution_count": 7,
   "metadata": {
    "collapsed": true
   },
   "outputs": [],
   "source": [
    "save_data(transactions_pre2015, root_path + 'train_15.pkl')\n",
    "save_data(transactions_pre2016, root_path + 'train_16.pkl')"
   ]
  },
  {
   "cell_type": "code",
   "execution_count": 8,
   "metadata": {
    "collapsed": true
   },
   "outputs": [],
   "source": [
    "def get_ground_truth(transactions):\n",
    "    return np.bincount(transactions[:, 0], np.in1d(transactions[:, 1], diabetes_drugs)) > 0\n",
    "ground_truth_15 = get_ground_truth(transactions_2015)\n",
    "ground_truth_16 = get_ground_truth(transactions_2016)"
   ]
  },
  {
   "cell_type": "code",
   "execution_count": 9,
   "metadata": {
    "collapsed": true
   },
   "outputs": [],
   "source": [
    "save_data(ground_truth_15, root_path + 'train_15_ground_truth.pkl')\n",
    "save_data(ground_truth_16, root_path + 'train_16_ground_truth.pkl')"
   ]
  },
  {
   "cell_type": "code",
   "execution_count": 10,
   "metadata": {},
   "outputs": [
    {
     "name": "stdout",
     "output_type": "stream",
     "text": [
      "26 27 28 29 30 31 32 33 34 35 36 37 38 39 40 41 42 43 44 45 46 47 48 49 50 finish loading\n",
      "patients in the test set: 279152\n",
      "Wall time: 42.1 s\n"
     ]
    }
   ],
   "source": [
    "%%time\n",
    "transactions = read_data(range(26, 51)) # 26~50\n",
    "\n",
    "num_patients = transactions[-1, 0] + 1\n",
    "print('patients in the test set:', num_patients)"
   ]
  },
  {
   "cell_type": "code",
   "execution_count": 11,
   "metadata": {},
   "outputs": [
    {
     "name": "stdout",
     "output_type": "stream",
     "text": [
      "(27692655, 3) -> (27600052, 3)\n"
     ]
    }
   ],
   "source": [
    "print(transactions.shape, end=' -> ')\n",
    "transactions = transactions[np.in1d(transactions[:, 1], all_drugs)]\n",
    "print(transactions.shape)"
   ]
  },
  {
   "cell_type": "code",
   "execution_count": 12,
   "metadata": {},
   "outputs": [
    {
     "name": "stdout",
     "output_type": "stream",
     "text": [
      "(21713283, 3)\n",
      "(5886769, 3)\n",
      "(27600052, 3)\n"
     ]
    }
   ],
   "source": [
    "# columns: ['PID', 'DID', 'DispWeek']\n",
    "transactions_pre2016  = transactions\n",
    "\n",
    "pre2015_mask = transactions_pre2016[:, 2] < year2015\n",
    "transactions_pre2015  = transactions_pre2016[pre2015_mask]\n",
    "transactions_2015     = transactions_pre2016[~pre2015_mask]\n",
    "\n",
    "print(transactions_pre2015.shape)\n",
    "print(transactions_2015.shape)\n",
    "print(transactions_pre2016.shape)"
   ]
  },
  {
   "cell_type": "code",
   "execution_count": 13,
   "metadata": {
    "collapsed": true
   },
   "outputs": [],
   "source": [
    "save_data(transactions_pre2015, root_path + 'test_15.pkl')\n",
    "save_data(transactions_pre2016, root_path + 'test_16.pkl')"
   ]
  },
  {
   "cell_type": "code",
   "execution_count": 14,
   "metadata": {
    "collapsed": true
   },
   "outputs": [],
   "source": [
    "ground_truth_15 = get_ground_truth(transactions_2015)"
   ]
  },
  {
   "cell_type": "code",
   "execution_count": 15,
   "metadata": {
    "collapsed": true
   },
   "outputs": [],
   "source": [
    "save_data(ground_truth_15, root_path + 'test_15_ground_truth.pkl')"
   ]
  }
 ],
 "metadata": {
  "kernelspec": {
   "display_name": "Python 3",
   "language": "python",
   "name": "python3"
  },
  "language_info": {
   "codemirror_mode": {
    "name": "ipython",
    "version": 3
   },
   "file_extension": ".py",
   "mimetype": "text/x-python",
   "name": "python",
   "nbconvert_exporter": "python",
   "pygments_lexer": "ipython3",
   "version": "3.5.2"
  }
 },
 "nbformat": 4,
 "nbformat_minor": 2
}
